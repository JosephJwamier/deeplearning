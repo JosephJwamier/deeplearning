{
 "cells": [
  {
   "cell_type": "code",
   "execution_count": 1,
   "id": "d48b2651-d66d-4aff-84b9-2cfabd1a5aa4",
   "metadata": {},
   "outputs": [],
   "source": [
    "import tensorflow as tf\n",
    "import pandas as pd \n",
    "import tensorflow.keras as kr\n",
    "import numpy as np\n",
    "from keras.models import Sequential\n",
    "from keras.layers import LSTM\n",
    "from keras.layers import Dense\n",
    "#from sklearn.preprocessing import MinMaxScaler\n",
    "#from sklearn.model_selection import train_test_split\n",
    "from keras.layers import Bidirectional\n",
    "from keras.layers import Dropout\n"
   ]
  },
  {
   "cell_type": "code",
   "execution_count": 2,
   "id": "a684dde7",
   "metadata": {},
   "outputs": [
    {
     "data": {
      "text/plain": [
       "[PhysicalDevice(name='/physical_device:CPU:0', device_type='CPU')]"
      ]
     },
     "execution_count": 2,
     "metadata": {},
     "output_type": "execute_result"
    }
   ],
   "source": [
    "tf.config.experimental.list_physical_devices()"
   ]
  },
  {
   "cell_type": "code",
   "execution_count": 3,
   "id": "7f40550f",
   "metadata": {},
   "outputs": [
    {
     "data": {
      "text/html": [
       "<div>\n",
       "<style scoped>\n",
       "    .dataframe tbody tr th:only-of-type {\n",
       "        vertical-align: middle;\n",
       "    }\n",
       "\n",
       "    .dataframe tbody tr th {\n",
       "        vertical-align: top;\n",
       "    }\n",
       "\n",
       "    .dataframe thead th {\n",
       "        text-align: right;\n",
       "    }\n",
       "</style>\n",
       "<table border=\"1\" class=\"dataframe\">\n",
       "  <thead>\n",
       "    <tr style=\"text-align: right;\">\n",
       "      <th></th>\n",
       "      <th>date</th>\n",
       "      <th>time</th>\n",
       "      <th>open</th>\n",
       "      <th>high</th>\n",
       "      <th>low</th>\n",
       "      <th>close</th>\n",
       "      <th>volume</th>\n",
       "    </tr>\n",
       "  </thead>\n",
       "  <tbody>\n",
       "    <tr>\n",
       "      <th>0</th>\n",
       "      <td>2012.08.31</td>\n",
       "      <td>10:00</td>\n",
       "      <td>1.25120</td>\n",
       "      <td>1.25463</td>\n",
       "      <td>1.25117</td>\n",
       "      <td>1.25463</td>\n",
       "      <td>3635</td>\n",
       "    </tr>\n",
       "    <tr>\n",
       "      <th>1</th>\n",
       "      <td>2012.08.31</td>\n",
       "      <td>11:00</td>\n",
       "      <td>1.25462</td>\n",
       "      <td>1.25804</td>\n",
       "      <td>1.25449</td>\n",
       "      <td>1.25660</td>\n",
       "      <td>4202</td>\n",
       "    </tr>\n",
       "    <tr>\n",
       "      <th>2</th>\n",
       "      <td>2012.08.31</td>\n",
       "      <td>12:00</td>\n",
       "      <td>1.25660</td>\n",
       "      <td>1.25936</td>\n",
       "      <td>1.25596</td>\n",
       "      <td>1.25825</td>\n",
       "      <td>4381</td>\n",
       "    </tr>\n",
       "    <tr>\n",
       "      <th>3</th>\n",
       "      <td>2012.08.31</td>\n",
       "      <td>13:00</td>\n",
       "      <td>1.25825</td>\n",
       "      <td>1.25917</td>\n",
       "      <td>1.25751</td>\n",
       "      <td>1.25916</td>\n",
       "      <td>3590</td>\n",
       "    </tr>\n",
       "    <tr>\n",
       "      <th>4</th>\n",
       "      <td>2012.08.31</td>\n",
       "      <td>14:00</td>\n",
       "      <td>1.25916</td>\n",
       "      <td>1.26269</td>\n",
       "      <td>1.25877</td>\n",
       "      <td>1.26104</td>\n",
       "      <td>4922</td>\n",
       "    </tr>\n",
       "    <tr>\n",
       "      <th>...</th>\n",
       "      <td>...</td>\n",
       "      <td>...</td>\n",
       "      <td>...</td>\n",
       "      <td>...</td>\n",
       "      <td>...</td>\n",
       "      <td>...</td>\n",
       "      <td>...</td>\n",
       "    </tr>\n",
       "    <tr>\n",
       "      <th>64995</th>\n",
       "      <td>2023.02.24</td>\n",
       "      <td>19:00</td>\n",
       "      <td>1.05440</td>\n",
       "      <td>1.05589</td>\n",
       "      <td>1.05431</td>\n",
       "      <td>1.05472</td>\n",
       "      <td>4280</td>\n",
       "    </tr>\n",
       "    <tr>\n",
       "      <th>64996</th>\n",
       "      <td>2023.02.24</td>\n",
       "      <td>20:00</td>\n",
       "      <td>1.05472</td>\n",
       "      <td>1.05552</td>\n",
       "      <td>1.05441</td>\n",
       "      <td>1.05453</td>\n",
       "      <td>3812</td>\n",
       "    </tr>\n",
       "    <tr>\n",
       "      <th>64997</th>\n",
       "      <td>2023.02.24</td>\n",
       "      <td>21:00</td>\n",
       "      <td>1.05453</td>\n",
       "      <td>1.05544</td>\n",
       "      <td>1.05441</td>\n",
       "      <td>1.05509</td>\n",
       "      <td>3394</td>\n",
       "    </tr>\n",
       "    <tr>\n",
       "      <th>64998</th>\n",
       "      <td>2023.02.24</td>\n",
       "      <td>22:00</td>\n",
       "      <td>1.05507</td>\n",
       "      <td>1.05557</td>\n",
       "      <td>1.05465</td>\n",
       "      <td>1.05472</td>\n",
       "      <td>3683</td>\n",
       "    </tr>\n",
       "    <tr>\n",
       "      <th>64999</th>\n",
       "      <td>2023.02.24</td>\n",
       "      <td>23:00</td>\n",
       "      <td>1.05471</td>\n",
       "      <td>1.05486</td>\n",
       "      <td>1.05431</td>\n",
       "      <td>1.05433</td>\n",
       "      <td>1124</td>\n",
       "    </tr>\n",
       "  </tbody>\n",
       "</table>\n",
       "<p>65000 rows × 7 columns</p>\n",
       "</div>"
      ],
      "text/plain": [
       "             date   time     open     high      low    close  volume\n",
       "0      2012.08.31  10:00  1.25120  1.25463  1.25117  1.25463    3635\n",
       "1      2012.08.31  11:00  1.25462  1.25804  1.25449  1.25660    4202\n",
       "2      2012.08.31  12:00  1.25660  1.25936  1.25596  1.25825    4381\n",
       "3      2012.08.31  13:00  1.25825  1.25917  1.25751  1.25916    3590\n",
       "4      2012.08.31  14:00  1.25916  1.26269  1.25877  1.26104    4922\n",
       "...           ...    ...      ...      ...      ...      ...     ...\n",
       "64995  2023.02.24  19:00  1.05440  1.05589  1.05431  1.05472    4280\n",
       "64996  2023.02.24  20:00  1.05472  1.05552  1.05441  1.05453    3812\n",
       "64997  2023.02.24  21:00  1.05453  1.05544  1.05441  1.05509    3394\n",
       "64998  2023.02.24  22:00  1.05507  1.05557  1.05465  1.05472    3683\n",
       "64999  2023.02.24  23:00  1.05471  1.05486  1.05431  1.05433    1124\n",
       "\n",
       "[65000 rows x 7 columns]"
      ]
     },
     "execution_count": 3,
     "metadata": {},
     "output_type": "execute_result"
    }
   ],
   "source": [
    "#load the data \n",
    "data = pd.read_csv('EURUSD60.csv')\n",
    "data\n"
   ]
  },
  {
   "cell_type": "code",
   "execution_count": 4,
   "id": "3f9c597f",
   "metadata": {},
   "outputs": [],
   "source": [
    "bigger = data[\"open\"].max()"
   ]
  },
  {
   "cell_type": "code",
   "execution_count": 5,
   "id": "ca00e41c",
   "metadata": {},
   "outputs": [
    {
     "data": {
      "text/plain": [
       "(65000,)"
      ]
     },
     "execution_count": 5,
     "metadata": {},
     "output_type": "execute_result"
    }
   ],
   "source": [
    "#here we scale the data between 0 to 1\n",
    "opendata = data[\"open\"]\n",
    "opendatas = opendata/bigger\n",
    "opendatas.shape "
   ]
  },
  {
   "cell_type": "code",
   "execution_count": 6,
   "id": "b4bbe8d1",
   "metadata": {},
   "outputs": [
    {
     "data": {
      "text/plain": [
       "\"scaler = MinMaxScaler()\\nx_scale = ['open','close','high','low']\\ndata[x_scale] = scaler.fit_transform(data[x_scale])\\ndata\""
      ]
     },
     "execution_count": 6,
     "metadata": {},
     "output_type": "execute_result"
    }
   ],
   "source": [
    "#scale the data from 0 to 1 we can use another way by divide the matrex on specific number\n",
    "\"\"\"scaler = MinMaxScaler()\n",
    "x_scale = ['open','close','high','low']\n",
    "data[x_scale] = scaler.fit_transform(data[x_scale])\n",
    "data\"\"\"\n"
   ]
  },
  {
   "cell_type": "code",
   "execution_count": 7,
   "id": "cfd1b95d",
   "metadata": {},
   "outputs": [
    {
     "data": {
      "text/plain": [
       "'def create_dataset(data, look_back=1):\\n    X,Y = [],[] \\n    for i in range(len(data) - look_back-5): #رقم 5 هنا نريد ان نتوقع الشمعه الخامسه \\n        X.append(data[i:i + look_back, 1:2])\\n        Y.append(data[i + look_back+5, 1:2])\\n    return np.array(X), np.array(Y)'"
      ]
     },
     "execution_count": 7,
     "metadata": {},
     "output_type": "execute_result"
    }
   ],
   "source": [
    "#this fun for divide the data into 2 matrex on eis the input and the other is the output data \n",
    "#we can manapelate in the raws and columns to get 3d or 2d array in this code we get 3d array\n",
    "#we can also get one or more features here\n",
    "\"\"\"def create_dataset(data, look_back=1):\n",
    "    X,Y = [],[] \n",
    "    for i in range(len(data) - look_back-5): #رقم 5 هنا نريد ان نتوقع الشمعه الخامسه \n",
    "        X.append(data[i:i + look_back, 1:2])\n",
    "        Y.append(data[i + look_back+5, 1:2])\n",
    "    return np.array(X), np.array(Y)\"\"\""
   ]
  },
  {
   "cell_type": "code",
   "execution_count": 8,
   "id": "c43f4ddd",
   "metadata": {},
   "outputs": [],
   "source": [
    "def create_dataset(x_data,y_data, look_back=1):\n",
    "    X,Y = [],[] \n",
    "    for i in range(len(y_data) - look_back): \n",
    "        X.append(x_data[i:i + look_back, 0:1])\n",
    "        Y.append(y_data[i + look_back, 0])\n",
    "    return np.array(X), np.array(Y)"
   ]
  },
  {
   "cell_type": "code",
   "execution_count": 9,
   "id": "3d4b70c8",
   "metadata": {},
   "outputs": [],
   "source": [
    "#هاي الفنكشن نسوي مصفوفة من الواحدات و الصفار حسب حركة السعر بنقاط معينه نحددها \n",
    "def moving (opendata):   \n",
    "    stop_p =0       #النقطة الي راح نوكف عدها عند تحرك السعر بالقيمة المطلوبه\n",
    "    pip_point = 0.0001   #حجم النقطة\n",
    "    pip = 50 * pip_point    #النقاط الي راح يتحرك بيها السعر\n",
    "    y =[]\n",
    "    start_c = opendata[0] #السعر من النقطة المطلوب الحساب منها \n",
    "    for candle in range(len(opendata)):\n",
    "        n_diff = opendata[candle] - start_c    #الفرق الذي تحرك به السعر\n",
    "        if (n_diff>= pip):\n",
    "            for ones in range(candle - stop_p): #ضيف واحدات\n",
    "                y.append(1)\n",
    "            start_c = opendata[candle]\n",
    "            stop_p = candle\n",
    "        if (n_diff <= -pip):\n",
    "            for zeros in range (candle - stop_p):  #ضيف صفار\n",
    "                   y.append(0)\n",
    "            start_c = opendata[candle]\n",
    "            stop_p = candle\n",
    "    return np.array(y)   #رجع نمابي اري"
   ]
  },
  {
   "cell_type": "code",
   "execution_count": 10,
   "id": "69cb699c",
   "metadata": {},
   "outputs": [
    {
     "data": {
      "text/plain": [
       "(64993, 1)"
      ]
     },
     "execution_count": 10,
     "metadata": {},
     "output_type": "execute_result"
    }
   ],
   "source": [
    "#we get the y array \n",
    "y_data = moving(opendata)\n",
    "y_datas = y_data.reshape(-1,1)\n",
    "y_datas.shape "
   ]
  },
  {
   "cell_type": "code",
   "execution_count": 11,
   "id": "211cbd27-83ea-4d8c-85ea-bee0bf6671ac",
   "metadata": {
    "tags": []
   },
   "outputs": [
    {
     "data": {
      "text/plain": [
       "(64993, 1)"
      ]
     },
     "execution_count": 11,
     "metadata": {},
     "output_type": "execute_result"
    }
   ],
   "source": [
    "#here we convert the csv file into np array also we delete the first raw we dont need if its zeros\n",
    "opendatas1 = np.array(opendatas)\n",
    "opendatas2 = opendatas1[:-7] #y and x must be equal y doesnt equal x cuase the moving fun the last elemints didnt make the if conditional\n",
    "opendatas3 = opendatas2.reshape(-1,1) #reshape it to 2d array here we use -1 to auto determine the sample in 1d array\n",
    "opendatas3.shape\n"
   ]
  },
  {
   "cell_type": "code",
   "execution_count": 12,
   "id": "bedb0561-0825-46e3-af87-beeb36b8c5dc",
   "metadata": {},
   "outputs": [
    {
     "data": {
      "text/plain": [
       "(64973, 20, 1)"
      ]
     },
     "execution_count": 12,
     "metadata": {},
     "output_type": "execute_result"
    }
   ],
   "source": [
    "#the lookback we can use to get how many timesteps to predicts the next timesteps\n",
    "look_back = 20\n",
    "x_data,y_data = create_dataset(opendatas3,y_datas,look_back)\n",
    "x_data.shape"
   ]
  },
  {
   "cell_type": "code",
   "execution_count": 13,
   "id": "8e26d3fb",
   "metadata": {},
   "outputs": [
    {
     "data": {
      "text/plain": [
       "(64973, 1)"
      ]
     },
     "execution_count": 13,
     "metadata": {},
     "output_type": "execute_result"
    }
   ],
   "source": [
    "y_data = y_data.reshape(-1,1)\n",
    "y_data.shape"
   ]
  },
  {
   "cell_type": "code",
   "execution_count": 14,
   "id": "ee1bf710",
   "metadata": {},
   "outputs": [],
   "source": [
    "#we split the data to train data and test data 20% for testing \n",
    "#x_train,x_test,y_train,y_test = train_test_split(x_data,y_data,test_size=0.2,random_state=5)"
   ]
  },
  {
   "cell_type": "code",
   "execution_count": 15,
   "id": "56cfedd5",
   "metadata": {},
   "outputs": [],
   "source": [
    "x_trsize = int(0.8*len(x_data))\n",
    "\n",
    "y_trsize = int(0.8*len(y_data))\n",
    "\n",
    "\n",
    "x_train = x_data[:x_trsize]\n",
    "x_test = x_data[x_trsize:]\n",
    "y_train = y_data[:y_trsize]\n",
    "y_test =y_data[y_trsize:]"
   ]
  },
  {
   "cell_type": "code",
   "execution_count": 16,
   "id": "2d6d550f",
   "metadata": {},
   "outputs": [
    {
     "data": {
      "text/plain": [
       "(12995, 20, 1)"
      ]
     },
     "execution_count": 16,
     "metadata": {},
     "output_type": "execute_result"
    }
   ],
   "source": [
    "x_test.shape"
   ]
  },
  {
   "cell_type": "code",
   "execution_count": 17,
   "id": "4450a541",
   "metadata": {},
   "outputs": [
    {
     "data": {
      "text/plain": [
       "(51978, 20, 1)"
      ]
     },
     "execution_count": 17,
     "metadata": {},
     "output_type": "execute_result"
    }
   ],
   "source": [
    "x_train.shape"
   ]
  },
  {
   "cell_type": "code",
   "execution_count": 18,
   "id": "2a8f48df",
   "metadata": {},
   "outputs": [
    {
     "data": {
      "text/plain": [
       "(51978, 1)"
      ]
     },
     "execution_count": 18,
     "metadata": {},
     "output_type": "execute_result"
    }
   ],
   "source": [
    "y_train.shape"
   ]
  },
  {
   "cell_type": "code",
   "execution_count": 19,
   "id": "775ab442",
   "metadata": {},
   "outputs": [
    {
     "data": {
      "text/plain": [
       "(12995, 1)"
      ]
     },
     "execution_count": 19,
     "metadata": {},
     "output_type": "execute_result"
    }
   ],
   "source": [
    "y_test.shape"
   ]
  },
  {
   "cell_type": "code",
   "execution_count": 20,
   "id": "097cb752",
   "metadata": {},
   "outputs": [],
   "source": [
    "#creating the model\n",
    "model = Sequential()"
   ]
  },
  {
   "cell_type": "code",
   "execution_count": 21,
   "id": "246b265f",
   "metadata": {},
   "outputs": [],
   "source": [
    "#input shape is the timeseries and the feature u got\n",
    "model.add(Bidirectional((LSTM(units=50,input_shape =(20,1),return_sequences= True,activation='sigmoid'))))"
   ]
  },
  {
   "cell_type": "code",
   "execution_count": 22,
   "id": "12307fb9",
   "metadata": {},
   "outputs": [],
   "source": [
    "model.add(LSTM(units=50,return_sequences= True))\n",
    "model.add(Dropout(0.2))\n",
    "model.add(LSTM(units=50,return_sequences= True))\n",
    "model.add(Dropout(0.2))\n",
    "model.add(LSTM(units=50,return_sequences= True))\n",
    "model.add(Dropout(0.2))"
   ]
  },
  {
   "cell_type": "code",
   "execution_count": 23,
   "id": "dccb4402",
   "metadata": {},
   "outputs": [],
   "source": [
    "model.add(Dense(1,activation='sigmoid'))"
   ]
  },
  {
   "cell_type": "code",
   "execution_count": 24,
   "id": "2ef4f8b6",
   "metadata": {},
   "outputs": [],
   "source": [
    "model.compile(optimizer='adam',loss=\"mean_squared_error\",metrics=['accuracy'])"
   ]
  },
  {
   "cell_type": "code",
   "execution_count": 25,
   "id": "9e3786b1",
   "metadata": {},
   "outputs": [
    {
     "data": {
      "text/plain": [
       "(51978, 20, 1)"
      ]
     },
     "execution_count": 25,
     "metadata": {},
     "output_type": "execute_result"
    }
   ],
   "source": [
    "x_train.shape"
   ]
  },
  {
   "cell_type": "code",
   "execution_count": null,
   "id": "228804aa",
   "metadata": {},
   "outputs": [
    {
     "name": "stdout",
     "output_type": "stream",
     "text": [
      "Epoch 1/100\n",
      "51978/51978 [==============================] - 545s 10ms/step - loss: 0.2502 - accuracy: 0.5061\n",
      "Epoch 2/100\n",
      "51978/51978 [==============================] - 534s 10ms/step - loss: 0.2500 - accuracy: 0.5065\n",
      "Epoch 3/100\n",
      "51978/51978 [==============================] - 540s 10ms/step - loss: 0.2500 - accuracy: 0.5060\n",
      "Epoch 4/100\n",
      "51978/51978 [==============================] - 539s 10ms/step - loss: 0.2500 - accuracy: 0.5078\n",
      "Epoch 5/100\n",
      "51978/51978 [==============================] - 536s 10ms/step - loss: 0.2500 - accuracy: 0.5059\n",
      "Epoch 6/100\n",
      "51978/51978 [==============================] - 542s 10ms/step - loss: 0.2500 - accuracy: 0.5063\n",
      "Epoch 7/100\n",
      "51978/51978 [==============================] - 537s 10ms/step - loss: 0.2500 - accuracy: 0.5046\n",
      "Epoch 8/100\n",
      "51978/51978 [==============================] - 545s 10ms/step - loss: 0.2500 - accuracy: 0.5074\n",
      "Epoch 9/100\n",
      "51978/51978 [==============================] - 540s 10ms/step - loss: 0.2500 - accuracy: 0.5055\n",
      "Epoch 10/100\n",
      "51978/51978 [==============================] - 540s 10ms/step - loss: 0.2500 - accuracy: 0.5063\n",
      "Epoch 11/100\n",
      "51978/51978 [==============================] - 537s 10ms/step - loss: 0.2500 - accuracy: 0.5076\n",
      "Epoch 12/100\n",
      "51978/51978 [==============================] - 536s 10ms/step - loss: 0.2500 - accuracy: 0.5081\n",
      "Epoch 13/100\n",
      "51978/51978 [==============================] - 539s 10ms/step - loss: 0.2500 - accuracy: 0.5054\n",
      "Epoch 14/100\n",
      "51978/51978 [==============================] - 541s 10ms/step - loss: 0.2500 - accuracy: 0.5046\n",
      "Epoch 15/100\n",
      "51978/51978 [==============================] - 538s 10ms/step - loss: 0.2500 - accuracy: 0.5063\n",
      "Epoch 16/100\n",
      "51978/51978 [==============================] - 538s 10ms/step - loss: 0.2500 - accuracy: 0.5058\n",
      "Epoch 17/100\n",
      "51978/51978 [==============================] - 541s 10ms/step - loss: 0.2500 - accuracy: 0.5062\n",
      "Epoch 18/100\n",
      "51978/51978 [==============================] - 535s 10ms/step - loss: 0.2500 - accuracy: 0.5062\n",
      "Epoch 19/100\n",
      "51978/51978 [==============================] - 537s 10ms/step - loss: 0.2500 - accuracy: 0.5062\n",
      "Epoch 20/100\n",
      "51978/51978 [==============================] - 539s 10ms/step - loss: 0.2500 - accuracy: 0.5064\n",
      "Epoch 21/100\n",
      "31467/51978 [=================>............] - ETA: 3:32 - loss: 0.2499 - accuracy: 0.5095"
     ]
    }
   ],
   "source": [
    "#feed the model\n",
    "model.fit(x_train,y_train,epochs=100,batch_size=1)"
   ]
  },
  {
   "cell_type": "code",
   "execution_count": 33,
   "id": "0e007c22",
   "metadata": {},
   "outputs": [
    {
     "ename": "InvalidArgumentError",
     "evalue": "Graph execution error:\n\nDetected at node 'mean_squared_error/SquaredDifference' defined at (most recent call last):\n    File \"c:\\users\\joseph\\appdata\\local\\programs\\python\\python38\\lib\\runpy.py\", line 194, in _run_module_as_main\n      return _run_code(code, main_globals, None,\n    File \"c:\\users\\joseph\\appdata\\local\\programs\\python\\python38\\lib\\runpy.py\", line 87, in _run_code\n      exec(code, run_globals)\n    File \"c:\\users\\joseph\\appdata\\local\\programs\\python\\python38\\lib\\site-packages\\ipykernel_launcher.py\", line 17, in <module>\n      app.launch_new_instance()\n    File \"c:\\users\\joseph\\appdata\\local\\programs\\python\\python38\\lib\\site-packages\\traitlets\\config\\application.py\", line 1043, in launch_instance\n      app.start()\n    File \"c:\\users\\joseph\\appdata\\local\\programs\\python\\python38\\lib\\site-packages\\ipykernel\\kernelapp.py\", line 728, in start\n      self.io_loop.start()\n    File \"c:\\users\\joseph\\appdata\\local\\programs\\python\\python38\\lib\\site-packages\\tornado\\platform\\asyncio.py\", line 215, in start\n      self.asyncio_loop.run_forever()\n    File \"c:\\users\\joseph\\appdata\\local\\programs\\python\\python38\\lib\\asyncio\\base_events.py\", line 570, in run_forever\n      self._run_once()\n    File \"c:\\users\\joseph\\appdata\\local\\programs\\python\\python38\\lib\\asyncio\\base_events.py\", line 1859, in _run_once\n      handle._run()\n    File \"c:\\users\\joseph\\appdata\\local\\programs\\python\\python38\\lib\\asyncio\\events.py\", line 81, in _run\n      self._context.run(self._callback, *self._args)\n    File \"c:\\users\\joseph\\appdata\\local\\programs\\python\\python38\\lib\\site-packages\\ipykernel\\kernelbase.py\", line 513, in dispatch_queue\n      await self.process_one()\n    File \"c:\\users\\joseph\\appdata\\local\\programs\\python\\python38\\lib\\site-packages\\ipykernel\\kernelbase.py\", line 502, in process_one\n      await dispatch(*args)\n    File \"c:\\users\\joseph\\appdata\\local\\programs\\python\\python38\\lib\\site-packages\\ipykernel\\kernelbase.py\", line 409, in dispatch_shell\n      await result\n    File \"c:\\users\\joseph\\appdata\\local\\programs\\python\\python38\\lib\\site-packages\\ipykernel\\kernelbase.py\", line 729, in execute_request\n      reply_content = await reply_content\n    File \"c:\\users\\joseph\\appdata\\local\\programs\\python\\python38\\lib\\site-packages\\ipykernel\\ipkernel.py\", line 423, in do_execute\n      res = shell.run_cell(\n    File \"c:\\users\\joseph\\appdata\\local\\programs\\python\\python38\\lib\\site-packages\\ipykernel\\zmqshell.py\", line 540, in run_cell\n      return super().run_cell(*args, **kwargs)\n    File \"c:\\users\\joseph\\appdata\\local\\programs\\python\\python38\\lib\\site-packages\\IPython\\core\\interactiveshell.py\", line 2945, in run_cell\n      result = self._run_cell(\n    File \"c:\\users\\joseph\\appdata\\local\\programs\\python\\python38\\lib\\site-packages\\IPython\\core\\interactiveshell.py\", line 3000, in _run_cell\n      return runner(coro)\n    File \"c:\\users\\joseph\\appdata\\local\\programs\\python\\python38\\lib\\site-packages\\IPython\\core\\async_helpers.py\", line 129, in _pseudo_sync_runner\n      coro.send(None)\n    File \"c:\\users\\joseph\\appdata\\local\\programs\\python\\python38\\lib\\site-packages\\IPython\\core\\interactiveshell.py\", line 3203, in run_cell_async\n      has_raised = await self.run_ast_nodes(code_ast.body, cell_name,\n    File \"c:\\users\\joseph\\appdata\\local\\programs\\python\\python38\\lib\\site-packages\\IPython\\core\\interactiveshell.py\", line 3382, in run_ast_nodes\n      if await self.run_code(code, result, async_=asy):\n    File \"c:\\users\\joseph\\appdata\\local\\programs\\python\\python38\\lib\\site-packages\\IPython\\core\\interactiveshell.py\", line 3442, in run_code\n      exec(code_obj, self.user_global_ns, self.user_ns)\n    File \"C:\\Users\\joseph\\AppData\\Local\\Temp\\ipykernel_5464\\1155765196.py\", line 2, in <module>\n      model.evaluate(x_test,y_test)\n    File \"c:\\users\\joseph\\appdata\\local\\programs\\python\\python38\\lib\\site-packages\\keras\\utils\\traceback_utils.py\", line 65, in error_handler\n      return fn(*args, **kwargs)\n    File \"c:\\users\\joseph\\appdata\\local\\programs\\python\\python38\\lib\\site-packages\\keras\\engine\\training.py\", line 2040, in evaluate\n      tmp_logs = self.test_function(iterator)\n    File \"c:\\users\\joseph\\appdata\\local\\programs\\python\\python38\\lib\\site-packages\\keras\\engine\\training.py\", line 1820, in test_function\n      return step_function(self, iterator)\n    File \"c:\\users\\joseph\\appdata\\local\\programs\\python\\python38\\lib\\site-packages\\keras\\engine\\training.py\", line 1804, in step_function\n      outputs = model.distribute_strategy.run(run_step, args=(data,))\n    File \"c:\\users\\joseph\\appdata\\local\\programs\\python\\python38\\lib\\site-packages\\keras\\engine\\training.py\", line 1792, in run_step\n      outputs = model.test_step(data)\n    File \"c:\\users\\joseph\\appdata\\local\\programs\\python\\python38\\lib\\site-packages\\keras\\engine\\training.py\", line 1758, in test_step\n      self.compute_loss(x, y, y_pred, sample_weight)\n    File \"c:\\users\\joseph\\appdata\\local\\programs\\python\\python38\\lib\\site-packages\\keras\\engine\\training.py\", line 1082, in compute_loss\n      return self.compiled_loss(\n    File \"c:\\users\\joseph\\appdata\\local\\programs\\python\\python38\\lib\\site-packages\\keras\\engine\\compile_utils.py\", line 265, in __call__\n      loss_value = loss_obj(y_t, y_p, sample_weight=sw)\n    File \"c:\\users\\joseph\\appdata\\local\\programs\\python\\python38\\lib\\site-packages\\keras\\losses.py\", line 152, in __call__\n      losses = call_fn(y_true, y_pred)\n    File \"c:\\users\\joseph\\appdata\\local\\programs\\python\\python38\\lib\\site-packages\\keras\\losses.py\", line 284, in call\n      return ag_fn(y_true, y_pred, **self._fn_kwargs)\n    File \"c:\\users\\joseph\\appdata\\local\\programs\\python\\python38\\lib\\site-packages\\keras\\losses.py\", line 1500, in mean_squared_error\n      return backend.mean(tf.math.squared_difference(y_pred, y_true), axis=-1)\nNode: 'mean_squared_error/SquaredDifference'\nIncompatible shapes: [32,1] vs. [32,8,5]\n\t [[{{node mean_squared_error/SquaredDifference}}]] [Op:__inference_test_function_450169]",
     "output_type": "error",
     "traceback": [
      "\u001b[1;31m---------------------------------------------------------------------------\u001b[0m",
      "\u001b[1;31mInvalidArgumentError\u001b[0m                      Traceback (most recent call last)",
      "Cell \u001b[1;32mIn[33], line 2\u001b[0m\n\u001b[0;32m      1\u001b[0m \u001b[38;5;66;03m#evalute the model\u001b[39;00m\n\u001b[1;32m----> 2\u001b[0m \u001b[43mmodel\u001b[49m\u001b[38;5;241;43m.\u001b[39;49m\u001b[43mevaluate\u001b[49m\u001b[43m(\u001b[49m\u001b[43mx_test\u001b[49m\u001b[43m,\u001b[49m\u001b[43my_test\u001b[49m\u001b[43m)\u001b[49m\n",
      "File \u001b[1;32mc:\\users\\joseph\\appdata\\local\\programs\\python\\python38\\lib\\site-packages\\keras\\utils\\traceback_utils.py:70\u001b[0m, in \u001b[0;36mfilter_traceback.<locals>.error_handler\u001b[1;34m(*args, **kwargs)\u001b[0m\n\u001b[0;32m     67\u001b[0m     filtered_tb \u001b[38;5;241m=\u001b[39m _process_traceback_frames(e\u001b[38;5;241m.\u001b[39m__traceback__)\n\u001b[0;32m     68\u001b[0m     \u001b[38;5;66;03m# To get the full stack trace, call:\u001b[39;00m\n\u001b[0;32m     69\u001b[0m     \u001b[38;5;66;03m# `tf.debugging.disable_traceback_filtering()`\u001b[39;00m\n\u001b[1;32m---> 70\u001b[0m     \u001b[38;5;28;01mraise\u001b[39;00m e\u001b[38;5;241m.\u001b[39mwith_traceback(filtered_tb) \u001b[38;5;28;01mfrom\u001b[39;00m \u001b[38;5;28mNone\u001b[39m\n\u001b[0;32m     71\u001b[0m \u001b[38;5;28;01mfinally\u001b[39;00m:\n\u001b[0;32m     72\u001b[0m     \u001b[38;5;28;01mdel\u001b[39;00m filtered_tb\n",
      "File \u001b[1;32mc:\\users\\joseph\\appdata\\local\\programs\\python\\python38\\lib\\site-packages\\tensorflow\\python\\eager\\execute.py:52\u001b[0m, in \u001b[0;36mquick_execute\u001b[1;34m(op_name, num_outputs, inputs, attrs, ctx, name)\u001b[0m\n\u001b[0;32m     50\u001b[0m \u001b[38;5;28;01mtry\u001b[39;00m:\n\u001b[0;32m     51\u001b[0m   ctx\u001b[38;5;241m.\u001b[39mensure_initialized()\n\u001b[1;32m---> 52\u001b[0m   tensors \u001b[38;5;241m=\u001b[39m pywrap_tfe\u001b[38;5;241m.\u001b[39mTFE_Py_Execute(ctx\u001b[38;5;241m.\u001b[39m_handle, device_name, op_name,\n\u001b[0;32m     53\u001b[0m                                       inputs, attrs, num_outputs)\n\u001b[0;32m     54\u001b[0m \u001b[38;5;28;01mexcept\u001b[39;00m core\u001b[38;5;241m.\u001b[39m_NotOkStatusException \u001b[38;5;28;01mas\u001b[39;00m e:\n\u001b[0;32m     55\u001b[0m   \u001b[38;5;28;01mif\u001b[39;00m name \u001b[38;5;129;01mis\u001b[39;00m \u001b[38;5;129;01mnot\u001b[39;00m \u001b[38;5;28;01mNone\u001b[39;00m:\n",
      "\u001b[1;31mInvalidArgumentError\u001b[0m: Graph execution error:\n\nDetected at node 'mean_squared_error/SquaredDifference' defined at (most recent call last):\n    File \"c:\\users\\joseph\\appdata\\local\\programs\\python\\python38\\lib\\runpy.py\", line 194, in _run_module_as_main\n      return _run_code(code, main_globals, None,\n    File \"c:\\users\\joseph\\appdata\\local\\programs\\python\\python38\\lib\\runpy.py\", line 87, in _run_code\n      exec(code, run_globals)\n    File \"c:\\users\\joseph\\appdata\\local\\programs\\python\\python38\\lib\\site-packages\\ipykernel_launcher.py\", line 17, in <module>\n      app.launch_new_instance()\n    File \"c:\\users\\joseph\\appdata\\local\\programs\\python\\python38\\lib\\site-packages\\traitlets\\config\\application.py\", line 1043, in launch_instance\n      app.start()\n    File \"c:\\users\\joseph\\appdata\\local\\programs\\python\\python38\\lib\\site-packages\\ipykernel\\kernelapp.py\", line 728, in start\n      self.io_loop.start()\n    File \"c:\\users\\joseph\\appdata\\local\\programs\\python\\python38\\lib\\site-packages\\tornado\\platform\\asyncio.py\", line 215, in start\n      self.asyncio_loop.run_forever()\n    File \"c:\\users\\joseph\\appdata\\local\\programs\\python\\python38\\lib\\asyncio\\base_events.py\", line 570, in run_forever\n      self._run_once()\n    File \"c:\\users\\joseph\\appdata\\local\\programs\\python\\python38\\lib\\asyncio\\base_events.py\", line 1859, in _run_once\n      handle._run()\n    File \"c:\\users\\joseph\\appdata\\local\\programs\\python\\python38\\lib\\asyncio\\events.py\", line 81, in _run\n      self._context.run(self._callback, *self._args)\n    File \"c:\\users\\joseph\\appdata\\local\\programs\\python\\python38\\lib\\site-packages\\ipykernel\\kernelbase.py\", line 513, in dispatch_queue\n      await self.process_one()\n    File \"c:\\users\\joseph\\appdata\\local\\programs\\python\\python38\\lib\\site-packages\\ipykernel\\kernelbase.py\", line 502, in process_one\n      await dispatch(*args)\n    File \"c:\\users\\joseph\\appdata\\local\\programs\\python\\python38\\lib\\site-packages\\ipykernel\\kernelbase.py\", line 409, in dispatch_shell\n      await result\n    File \"c:\\users\\joseph\\appdata\\local\\programs\\python\\python38\\lib\\site-packages\\ipykernel\\kernelbase.py\", line 729, in execute_request\n      reply_content = await reply_content\n    File \"c:\\users\\joseph\\appdata\\local\\programs\\python\\python38\\lib\\site-packages\\ipykernel\\ipkernel.py\", line 423, in do_execute\n      res = shell.run_cell(\n    File \"c:\\users\\joseph\\appdata\\local\\programs\\python\\python38\\lib\\site-packages\\ipykernel\\zmqshell.py\", line 540, in run_cell\n      return super().run_cell(*args, **kwargs)\n    File \"c:\\users\\joseph\\appdata\\local\\programs\\python\\python38\\lib\\site-packages\\IPython\\core\\interactiveshell.py\", line 2945, in run_cell\n      result = self._run_cell(\n    File \"c:\\users\\joseph\\appdata\\local\\programs\\python\\python38\\lib\\site-packages\\IPython\\core\\interactiveshell.py\", line 3000, in _run_cell\n      return runner(coro)\n    File \"c:\\users\\joseph\\appdata\\local\\programs\\python\\python38\\lib\\site-packages\\IPython\\core\\async_helpers.py\", line 129, in _pseudo_sync_runner\n      coro.send(None)\n    File \"c:\\users\\joseph\\appdata\\local\\programs\\python\\python38\\lib\\site-packages\\IPython\\core\\interactiveshell.py\", line 3203, in run_cell_async\n      has_raised = await self.run_ast_nodes(code_ast.body, cell_name,\n    File \"c:\\users\\joseph\\appdata\\local\\programs\\python\\python38\\lib\\site-packages\\IPython\\core\\interactiveshell.py\", line 3382, in run_ast_nodes\n      if await self.run_code(code, result, async_=asy):\n    File \"c:\\users\\joseph\\appdata\\local\\programs\\python\\python38\\lib\\site-packages\\IPython\\core\\interactiveshell.py\", line 3442, in run_code\n      exec(code_obj, self.user_global_ns, self.user_ns)\n    File \"C:\\Users\\joseph\\AppData\\Local\\Temp\\ipykernel_5464\\1155765196.py\", line 2, in <module>\n      model.evaluate(x_test,y_test)\n    File \"c:\\users\\joseph\\appdata\\local\\programs\\python\\python38\\lib\\site-packages\\keras\\utils\\traceback_utils.py\", line 65, in error_handler\n      return fn(*args, **kwargs)\n    File \"c:\\users\\joseph\\appdata\\local\\programs\\python\\python38\\lib\\site-packages\\keras\\engine\\training.py\", line 2040, in evaluate\n      tmp_logs = self.test_function(iterator)\n    File \"c:\\users\\joseph\\appdata\\local\\programs\\python\\python38\\lib\\site-packages\\keras\\engine\\training.py\", line 1820, in test_function\n      return step_function(self, iterator)\n    File \"c:\\users\\joseph\\appdata\\local\\programs\\python\\python38\\lib\\site-packages\\keras\\engine\\training.py\", line 1804, in step_function\n      outputs = model.distribute_strategy.run(run_step, args=(data,))\n    File \"c:\\users\\joseph\\appdata\\local\\programs\\python\\python38\\lib\\site-packages\\keras\\engine\\training.py\", line 1792, in run_step\n      outputs = model.test_step(data)\n    File \"c:\\users\\joseph\\appdata\\local\\programs\\python\\python38\\lib\\site-packages\\keras\\engine\\training.py\", line 1758, in test_step\n      self.compute_loss(x, y, y_pred, sample_weight)\n    File \"c:\\users\\joseph\\appdata\\local\\programs\\python\\python38\\lib\\site-packages\\keras\\engine\\training.py\", line 1082, in compute_loss\n      return self.compiled_loss(\n    File \"c:\\users\\joseph\\appdata\\local\\programs\\python\\python38\\lib\\site-packages\\keras\\engine\\compile_utils.py\", line 265, in __call__\n      loss_value = loss_obj(y_t, y_p, sample_weight=sw)\n    File \"c:\\users\\joseph\\appdata\\local\\programs\\python\\python38\\lib\\site-packages\\keras\\losses.py\", line 152, in __call__\n      losses = call_fn(y_true, y_pred)\n    File \"c:\\users\\joseph\\appdata\\local\\programs\\python\\python38\\lib\\site-packages\\keras\\losses.py\", line 284, in call\n      return ag_fn(y_true, y_pred, **self._fn_kwargs)\n    File \"c:\\users\\joseph\\appdata\\local\\programs\\python\\python38\\lib\\site-packages\\keras\\losses.py\", line 1500, in mean_squared_error\n      return backend.mean(tf.math.squared_difference(y_pred, y_true), axis=-1)\nNode: 'mean_squared_error/SquaredDifference'\nIncompatible shapes: [32,1] vs. [32,8,5]\n\t [[{{node mean_squared_error/SquaredDifference}}]] [Op:__inference_test_function_450169]"
     ]
    }
   ],
   "source": [
    "#evalute the model\n",
    "model.evaluate(x_test,y_test)"
   ]
  },
  {
   "cell_type": "code",
   "execution_count": 34,
   "id": "90ff65ea",
   "metadata": {},
   "outputs": [
    {
     "name": "stdout",
     "output_type": "stream",
     "text": [
      "5/5 [==============================] - 8s 32ms/step\n"
     ]
    }
   ],
   "source": [
    "#make prediction on a sample \n",
    "pre = model.predict(x_test)"
   ]
  },
  {
   "cell_type": "code",
   "execution_count": 36,
   "id": "04035639",
   "metadata": {},
   "outputs": [
    {
     "data": {
      "text/plain": [
       "array([[[0.21878098, 0.21920687, 0.21842422, 0.21844138, 0.21863185],\n",
       "        [0.21898465, 0.2194725 , 0.21862063, 0.21833119, 0.21849462],\n",
       "        [0.21823178, 0.21872522, 0.21765871, 0.2175341 , 0.21771649],\n",
       "        [0.21755491, 0.2181296 , 0.21705285, 0.21705696, 0.2170434 ],\n",
       "        [0.21721645, 0.2179157 , 0.21692161, 0.21700011, 0.21680117],\n",
       "        [0.21714944, 0.2179484 , 0.21698788, 0.21707955, 0.21686736],\n",
       "        [0.21755959, 0.21839972, 0.2173691 , 0.21740176, 0.21735126],\n",
       "        [0.21741013, 0.218241  , 0.21708019, 0.21699263, 0.21718082]],\n",
       "\n",
       "       [[0.23560962, 0.23602419, 0.23523213, 0.2352304 , 0.23544696],\n",
       "        [0.23547992, 0.23596233, 0.23505308, 0.2347669 , 0.23502593],\n",
       "        [0.2348463 , 0.23530713, 0.23425156, 0.23409571, 0.23429906],\n",
       "        [0.23415025, 0.23467189, 0.23363902, 0.2336205 , 0.23358783],\n",
       "        [0.23383829, 0.23447442, 0.23353659, 0.23360074, 0.23337966],\n",
       "        [0.23375575, 0.234494  , 0.23360945, 0.23368417, 0.23345773],\n",
       "        [0.23402645, 0.23481338, 0.23389116, 0.23389767, 0.23384377],\n",
       "        [0.23379627, 0.2345737 , 0.23354477, 0.23341528, 0.23363401]],\n",
       "\n",
       "       [[0.51212656, 0.5124202 , 0.5120499 , 0.5121159 , 0.51158524],\n",
       "        [0.51299137, 0.5131569 , 0.5126958 , 0.5128592 , 0.5129639 ],\n",
       "        [0.513213  , 0.51336527, 0.5134355 , 0.513527  , 0.5133382 ],\n",
       "        [0.5132707 , 0.5132695 , 0.513446  , 0.5134143 , 0.513368  ],\n",
       "        [0.5131094 , 0.5130434 , 0.5130566 , 0.5129984 , 0.51301837],\n",
       "        [0.5134992 , 0.5134576 , 0.51334095, 0.5132687 , 0.5132531 ],\n",
       "        [0.5132328 , 0.51327056, 0.513185  , 0.513062  , 0.51306665],\n",
       "        [0.5134569 , 0.51361966, 0.5137391 , 0.51351386, 0.51358944]],\n",
       "\n",
       "       [[0.5151299 , 0.51542157, 0.5150578 , 0.51512575, 0.51459193],\n",
       "        [0.5160076 , 0.5161653 , 0.5157182 , 0.5158866 , 0.51597714],\n",
       "        [0.51621073, 0.5163581 , 0.5164367 , 0.5165345 , 0.51633954],\n",
       "        [0.51627624, 0.51627076, 0.51645404, 0.51642585, 0.5163803 ],\n",
       "        [0.51612014, 0.5160487 , 0.5160659 , 0.5160109 , 0.51603335],\n",
       "        [0.516508  , 0.51646   , 0.5163434 , 0.51627535, 0.516261  ],\n",
       "        [0.5162485 , 0.5162797 , 0.5161915 , 0.51607394, 0.51607704],\n",
       "        [0.51648265, 0.5166407 , 0.51675713, 0.5165391 , 0.51660895]],\n",
       "\n",
       "       [[0.8715606 , 0.8714712 , 0.8713472 , 0.8713365 , 0.87164664],\n",
       "        [0.8731947 , 0.87309986, 0.87337184, 0.87327534, 0.87338626],\n",
       "        [0.87263364, 0.87247753, 0.8723011 , 0.8723075 , 0.8725461 ],\n",
       "        [0.8722496 , 0.8723154 , 0.8721483 , 0.87198114, 0.87244916],\n",
       "        [0.87154037, 0.8717596 , 0.8717425 , 0.8714126 , 0.8719084 ],\n",
       "        [0.87131083, 0.87149316, 0.871534  , 0.87117684, 0.87153125],\n",
       "        [0.87193626, 0.8719926 , 0.8720757 , 0.87178946, 0.8720044 ],\n",
       "        [0.87210083, 0.8720237 , 0.8722341 , 0.8720788 , 0.8723017 ]],\n",
       "\n",
       "       [[0.9554304 , 0.9556037 , 0.9552424 , 0.9555556 , 0.9548844 ],\n",
       "        [0.9557362 , 0.95589846, 0.95553875, 0.9558506 , 0.95592225],\n",
       "        [0.9552416 , 0.9548384 , 0.9544958 , 0.95499974, 0.95507336],\n",
       "        [0.95532423, 0.95500565, 0.9547211 , 0.9552375 , 0.9551867 ],\n",
       "        [0.95483696, 0.9547043 , 0.95470166, 0.95493954, 0.95492005],\n",
       "        [0.9541778 , 0.954035  , 0.9542856 , 0.954233  , 0.95427966],\n",
       "        [0.95469826, 0.9543715 , 0.954849  , 0.9546353 , 0.95474124],\n",
       "        [0.95500326, 0.9543647 , 0.95512354, 0.9549153 , 0.9551494 ]],\n",
       "\n",
       "       [[0.99534315, 0.9957795 , 0.9952898 , 0.99576735, 0.99432003],\n",
       "        [0.9921535 , 0.9924507 , 0.99151087, 0.9921694 , 0.99201727],\n",
       "        [0.99265516, 0.99197763, 0.9914552 , 0.99232024, 0.9922013 ],\n",
       "        [0.99288183, 0.99218345, 0.99176013, 0.9927729 , 0.99230504],\n",
       "        [0.99318826, 0.99265075, 0.9925227 , 0.99322826, 0.9927653 ],\n",
       "        [0.99253243, 0.99198055, 0.9921683 , 0.99248624, 0.9921689 ],\n",
       "        [0.9926626 , 0.99187607, 0.99237025, 0.9924079 , 0.9922769 ],\n",
       "        [0.99250704, 0.99130994, 0.9921768 , 0.9921215 , 0.99221647]],\n",
       "\n",
       "       [[0.97078395, 0.97104686, 0.97063446, 0.97101575, 0.9700663 ],\n",
       "        [0.9700189 , 0.9702315 , 0.9696715 , 0.97010785, 0.9701115 ],\n",
       "        [0.96980083, 0.96930575, 0.96890426, 0.9695408 , 0.9695488 ],\n",
       "        [0.9699668 , 0.9695169 , 0.969188  , 0.96988505, 0.9696865 ],\n",
       "        [0.96973205, 0.96946174, 0.96942556, 0.9698305 , 0.9696547 ],\n",
       "        [0.9690485 , 0.9687683 , 0.9690136 , 0.96908665, 0.9690112 ],\n",
       "        [0.9694305 , 0.968949  , 0.96945405, 0.9693185 , 0.9693513 ],\n",
       "        [0.9696009 , 0.9687707 , 0.9695922 , 0.9694255 , 0.96962273]],\n",
       "\n",
       "       [[0.1309742 , 0.13145518, 0.13079214, 0.13080356, 0.1306301 ],\n",
       "        [0.13298   , 0.13356604, 0.13282448, 0.13244414, 0.13228586],\n",
       "        [0.131896  , 0.13265519, 0.13155474, 0.13143067, 0.13156842],\n",
       "        [0.13144451, 0.13239652, 0.13110125, 0.13093096, 0.13121822],\n",
       "        [0.1306638 , 0.13178425, 0.13049376, 0.13032997, 0.1304298 ],\n",
       "        [0.13076681, 0.1319165 , 0.13055697, 0.13046153, 0.13046522],\n",
       "        [0.13166587, 0.13279632, 0.1312458 , 0.13118774, 0.13123736],\n",
       "        [0.13208699, 0.13327172, 0.13157123, 0.13153368, 0.13153502]],\n",
       "\n",
       "       [[0.20956512, 0.20999742, 0.2092223 , 0.20924951, 0.20941824],\n",
       "        [0.20996681, 0.21045844, 0.20963746, 0.20934607, 0.20945749],\n",
       "        [0.20915483, 0.20966814, 0.20859848, 0.20848978, 0.20866108],\n",
       "        [0.208494  , 0.20909984, 0.20800085, 0.20801288, 0.20801464],\n",
       "        [0.20813483, 0.2088706 , 0.20784631, 0.20792681, 0.20774539],\n",
       "        [0.2080785 , 0.20891169, 0.20790924, 0.20800486, 0.20780465],\n",
       "        [0.20856467, 0.20943424, 0.20834397, 0.20838684, 0.20834064],\n",
       "        [0.20846532, 0.20932671, 0.20809533, 0.20802827, 0.20819856]],\n",
       "\n",
       "       [[0.14938846, 0.14986098, 0.1491678 , 0.14921331, 0.14913215],\n",
       "        [0.15109672, 0.15164478, 0.15093595, 0.15059736, 0.15045363],\n",
       "        [0.15003659, 0.15072306, 0.14964181, 0.14956044, 0.14969277],\n",
       "        [0.14954038, 0.150395  , 0.14915457, 0.14908001, 0.14927854],\n",
       "        [0.14890216, 0.14991844, 0.14869511, 0.14863852, 0.14865908],\n",
       "        [0.14895141, 0.15002352, 0.14874667, 0.1487377 , 0.14868248],\n",
       "        [0.14982384, 0.15089074, 0.14943282, 0.14943558, 0.14945619],\n",
       "        [0.15011564, 0.15120941, 0.14958727, 0.149575  , 0.14961587]],\n",
       "\n",
       "       [[0.31678647, 0.31715763, 0.31639907, 0.31633925, 0.31645942],\n",
       "        [0.3158738 , 0.31633207, 0.31524605, 0.3150124 , 0.31561455],\n",
       "        [0.31590942, 0.31626484, 0.31540164, 0.31514195, 0.31539494],\n",
       "        [0.3153071 , 0.31562784, 0.31489912, 0.31473708, 0.31470692],\n",
       "        [0.31501108, 0.31539258, 0.31475788, 0.31467226, 0.3144815 ],\n",
       "        [0.314961  , 0.31543502, 0.31489536, 0.31480962, 0.31462315],\n",
       "        [0.31467882, 0.31522104, 0.31476822, 0.31459764, 0.3145857 ],\n",
       "        [0.3142926 , 0.3148445 , 0.31442922, 0.31409144, 0.3144027 ]],\n",
       "\n",
       "       [[0.5377167 , 0.53799254, 0.5376767 , 0.5377574 , 0.5372114 ],\n",
       "        [0.5386445 , 0.53874177, 0.538397  , 0.5385973 , 0.53858626],\n",
       "        [0.5387022 , 0.5388105 , 0.53894126, 0.5390817 , 0.53884715],\n",
       "        [0.53882366, 0.5387864 , 0.5390086 , 0.5390026 , 0.5389681 ],\n",
       "        [0.5387099 , 0.5386012 , 0.5386411 , 0.538607  , 0.53864884],\n",
       "        [0.5390676 , 0.53897303, 0.53885216, 0.5388153 , 0.53881097],\n",
       "        [0.5388529 , 0.53883654, 0.53872263, 0.5386471 , 0.53863907],\n",
       "        [0.53915614, 0.53928024, 0.5393671 , 0.53920364, 0.53923297]],\n",
       "\n",
       "       [[0.3048995 , 0.30527583, 0.30450475, 0.30444813, 0.30460152],\n",
       "        [0.30400485, 0.3044681 , 0.30339086, 0.30314362, 0.30371553],\n",
       "        [0.30394328, 0.30431014, 0.30340278, 0.30314848, 0.30340388],\n",
       "        [0.30331028, 0.30365577, 0.30287206, 0.30272704, 0.3026923 ],\n",
       "        [0.3030167 , 0.3034314 , 0.3027488 , 0.30268526, 0.30248055],\n",
       "        [0.30294862, 0.30345875, 0.30287182, 0.3028103 , 0.3026103 ],\n",
       "        [0.3027276 , 0.30330428, 0.30279127, 0.3026455 , 0.30262393],\n",
       "        [0.30233967, 0.30292156, 0.30242434, 0.30211222, 0.30241695]],\n",
       "\n",
       "       [[0.1802626 , 0.18071556, 0.1799745 , 0.18002598, 0.18009266],\n",
       "        [0.18132567, 0.18183585, 0.18109763, 0.1807944 , 0.18075472],\n",
       "        [0.1803606 , 0.18094787, 0.1798751 , 0.17980242, 0.17994533],\n",
       "        [0.17977212, 0.18048812, 0.1793226 , 0.17932838, 0.17940485],\n",
       "        [0.17931126, 0.18017364, 0.17905413, 0.17910476, 0.17900464],\n",
       "        [0.17929788, 0.18024418, 0.17910776, 0.17918396, 0.17904131],\n",
       "        [0.18000805, 0.18097246, 0.17969543, 0.17974523, 0.179724  ],\n",
       "        [0.18008927, 0.18105501, 0.1796138 , 0.17959434, 0.17970346]],\n",
       "\n",
       "       [[0.81115395, 0.8110578 , 0.8110157 , 0.81092006, 0.81137514],\n",
       "        [0.81156874, 0.8113288 , 0.8116894 , 0.81157184, 0.81152344],\n",
       "        [0.8113096 , 0.8111624 , 0.8110415 , 0.8109557 , 0.81114256],\n",
       "        [0.810971  , 0.81103784, 0.81091917, 0.8105988 , 0.8111534 ],\n",
       "        [0.81077784, 0.8109364 , 0.81086147, 0.8104715 , 0.811015  ],\n",
       "        [0.8107414 , 0.8108384 , 0.8106935 , 0.81041306, 0.8107368 ],\n",
       "        [0.81083614, 0.8108425 , 0.8106419 , 0.8105053 , 0.81066525],\n",
       "        [0.81065315, 0.8106446 , 0.8105277 , 0.8105191 , 0.81065977]],\n",
       "\n",
       "       [[0.8897583 , 0.8896966 , 0.8895316 , 0.88957447, 0.8897526 ],\n",
       "        [0.891578  , 0.8915359 , 0.89173055, 0.89168173, 0.891821  ],\n",
       "        [0.89091396, 0.8907349 , 0.8905374 , 0.89061475, 0.89084363],\n",
       "        [0.89059097, 0.89061844, 0.890437  , 0.89037067, 0.8907676 ],\n",
       "        [0.88979197, 0.8899871 , 0.8899894 , 0.8897307 , 0.89016366],\n",
       "        [0.8894598 , 0.88962674, 0.88972974, 0.88938844, 0.8897207 ],\n",
       "        [0.8901691 , 0.89020056, 0.8903836 , 0.8900729 , 0.89029276],\n",
       "        [0.8904528 , 0.8903139 , 0.89065015, 0.890456  , 0.8906989 ]],\n",
       "\n",
       "       [[0.09034802, 0.09082983, 0.09021501, 0.08999874, 0.08970615],\n",
       "        [0.09262271, 0.09336796, 0.09233256, 0.09176569, 0.09178133],\n",
       "        [0.09152602, 0.09250161, 0.09127475, 0.09090173, 0.09107305],\n",
       "        [0.09104086, 0.09226824, 0.09079549, 0.09026055, 0.0907328 ],\n",
       "        [0.08987731, 0.09127109, 0.08980148, 0.08929008, 0.08952053],\n",
       "        [0.0902126 , 0.09153728, 0.0899964 , 0.08962069, 0.08973835],\n",
       "        [0.09082954, 0.09211813, 0.09043297, 0.09013832, 0.09024529],\n",
       "        [0.09156139, 0.09302002, 0.09125562, 0.09105043, 0.09099245]],\n",
       "\n",
       "       [[0.82322   , 0.82311714, 0.8230648 , 0.8229753 , 0.8234335 ],\n",
       "        [0.82389045, 0.8236743 , 0.82403374, 0.8239063 , 0.82389355],\n",
       "        [0.8235932 , 0.82344913, 0.8233167 , 0.82323337, 0.8234396 ],\n",
       "        [0.82321817, 0.8232964 , 0.823166  , 0.8228563 , 0.8234103 ],\n",
       "        [0.82291484, 0.823098  , 0.8230313 , 0.8226354 , 0.8231859 ],\n",
       "        [0.8228621 , 0.8229875 , 0.8228742 , 0.82256746, 0.8229059 ],\n",
       "        [0.82307506, 0.8231019 , 0.8229481 , 0.82277846, 0.8229513 ],\n",
       "        [0.8229366 , 0.82292545, 0.82285905, 0.8228228 , 0.8229809 ]],\n",
       "\n",
       "       [[0.15709473, 0.15756285, 0.15685703, 0.15690884, 0.15686682],\n",
       "        [0.15865505, 0.15919116, 0.15848325, 0.15815687, 0.15803126],\n",
       "        [0.15761197, 0.15827125, 0.15719408, 0.15712121, 0.15725392],\n",
       "        [0.1570932 , 0.15791065, 0.15669033, 0.1566445 , 0.15680884],\n",
       "        [0.15650657, 0.15748218, 0.15628552, 0.15626395, 0.15625201],\n",
       "        [0.15653783, 0.15757793, 0.15633596, 0.15635517, 0.15627621],\n",
       "        [0.15738085, 0.15842181, 0.15700656, 0.15702716, 0.15703619],\n",
       "        [0.15761912, 0.15867859, 0.15709648, 0.15708758, 0.15714553]]],\n",
       "      dtype=float32)"
      ]
     },
     "execution_count": 36,
     "metadata": {},
     "output_type": "execute_result"
    }
   ],
   "source": [
    "pre[:20]"
   ]
  },
  {
   "cell_type": "code",
   "execution_count": 41,
   "id": "71701ac1",
   "metadata": {},
   "outputs": [
    {
     "data": {
      "text/plain": [
       "array([[[0.19637462],\n",
       "        [0.1978852 ],\n",
       "        [0.19939577],\n",
       "        [0.20090634],\n",
       "        [0.20241692],\n",
       "        [0.20392749],\n",
       "        [0.20543807],\n",
       "        [0.20694864]],\n",
       "\n",
       "       [[0.21299094],\n",
       "        [0.21450151],\n",
       "        [0.21601208],\n",
       "        [0.21752266],\n",
       "        [0.21903323],\n",
       "        [0.22054381],\n",
       "        [0.22205438],\n",
       "        [0.22356495]],\n",
       "\n",
       "       [[0.4939577 ],\n",
       "        [0.49546828],\n",
       "        [0.49697885],\n",
       "        [0.49848943],\n",
       "        [0.5       ],\n",
       "        [0.50151057],\n",
       "        [0.50302115],\n",
       "        [0.50453172]],\n",
       "\n",
       "       [[0.49697885],\n",
       "        [0.49848943],\n",
       "        [0.5       ],\n",
       "        [0.50151057],\n",
       "        [0.50302115],\n",
       "        [0.50453172],\n",
       "        [0.5060423 ],\n",
       "        [0.50755287]],\n",
       "\n",
       "       [[0.85196375],\n",
       "        [0.85347432],\n",
       "        [0.85498489],\n",
       "        [0.85649547],\n",
       "        [0.85800604],\n",
       "        [0.85951662],\n",
       "        [0.86102719],\n",
       "        [0.86253776]],\n",
       "\n",
       "       [[0.93504532],\n",
       "        [0.93655589],\n",
       "        [0.93806647],\n",
       "        [0.93957704],\n",
       "        [0.94108761],\n",
       "        [0.94259819],\n",
       "        [0.94410876],\n",
       "        [0.94561934]],\n",
       "\n",
       "       [[0.97432024],\n",
       "        [0.97583082],\n",
       "        [0.97734139],\n",
       "        [0.97885196],\n",
       "        [0.98036254],\n",
       "        [0.98187311],\n",
       "        [0.98338369],\n",
       "        [0.98489426]],\n",
       "\n",
       "       [[0.95015106],\n",
       "        [0.95166163],\n",
       "        [0.95317221],\n",
       "        [0.95468278],\n",
       "        [0.95619335],\n",
       "        [0.95770393],\n",
       "        [0.9592145 ],\n",
       "        [0.96072508]],\n",
       "\n",
       "       [[0.1102719 ],\n",
       "        [0.11178248],\n",
       "        [0.11329305],\n",
       "        [0.11480363],\n",
       "        [0.1163142 ],\n",
       "        [0.11782477],\n",
       "        [0.11933535],\n",
       "        [0.12084592]],\n",
       "\n",
       "       [[0.18731118],\n",
       "        [0.18882175],\n",
       "        [0.19033233],\n",
       "        [0.1918429 ],\n",
       "        [0.19335347],\n",
       "        [0.19486405],\n",
       "        [0.19637462],\n",
       "        [0.1978852 ]],\n",
       "\n",
       "       [[0.12839879],\n",
       "        [0.12990937],\n",
       "        [0.13141994],\n",
       "        [0.13293051],\n",
       "        [0.13444109],\n",
       "        [0.13595166],\n",
       "        [0.13746224],\n",
       "        [0.13897281]],\n",
       "\n",
       "       [[0.29456193],\n",
       "        [0.29607251],\n",
       "        [0.29758308],\n",
       "        [0.29909366],\n",
       "        [0.30060423],\n",
       "        [0.3021148 ],\n",
       "        [0.30362538],\n",
       "        [0.30513595]],\n",
       "\n",
       "       [[0.51963746],\n",
       "        [0.52114804],\n",
       "        [0.52265861],\n",
       "        [0.52416918],\n",
       "        [0.52567976],\n",
       "        [0.52719033],\n",
       "        [0.52870091],\n",
       "        [0.53021148]],\n",
       "\n",
       "       [[0.28247734],\n",
       "        [0.28398792],\n",
       "        [0.28549849],\n",
       "        [0.28700906],\n",
       "        [0.28851964],\n",
       "        [0.29003021],\n",
       "        [0.29154079],\n",
       "        [0.29305136]],\n",
       "\n",
       "       [[0.15861027],\n",
       "        [0.16012085],\n",
       "        [0.16163142],\n",
       "        [0.16314199],\n",
       "        [0.16465257],\n",
       "        [0.16616314],\n",
       "        [0.16767372],\n",
       "        [0.16918429]],\n",
       "\n",
       "       [[0.79154079],\n",
       "        [0.79305136],\n",
       "        [0.79456193],\n",
       "        [0.79607251],\n",
       "        [0.79758308],\n",
       "        [0.79909366],\n",
       "        [0.80060423],\n",
       "        [0.8021148 ]],\n",
       "\n",
       "       [[0.87009063],\n",
       "        [0.87160121],\n",
       "        [0.87311178],\n",
       "        [0.87462236],\n",
       "        [0.87613293],\n",
       "        [0.8776435 ],\n",
       "        [0.87915408],\n",
       "        [0.88066465]],\n",
       "\n",
       "       [[0.0694864 ],\n",
       "        [0.07099698],\n",
       "        [0.07250755],\n",
       "        [0.07401813],\n",
       "        [0.0755287 ],\n",
       "        [0.07703927],\n",
       "        [0.07854985],\n",
       "        [0.08006042]],\n",
       "\n",
       "       [[0.80362538],\n",
       "        [0.80513595],\n",
       "        [0.80664653],\n",
       "        [0.8081571 ],\n",
       "        [0.80966767],\n",
       "        [0.81117825],\n",
       "        [0.81268882],\n",
       "        [0.8141994 ]],\n",
       "\n",
       "       [[0.13595166],\n",
       "        [0.13746224],\n",
       "        [0.13897281],\n",
       "        [0.14048338],\n",
       "        [0.14199396],\n",
       "        [0.14350453],\n",
       "        [0.14501511],\n",
       "        [0.14652568]]])"
      ]
     },
     "execution_count": 41,
     "metadata": {},
     "output_type": "execute_result"
    }
   ],
   "source": [
    "x_test[:20]"
   ]
  },
  {
   "cell_type": "code",
   "execution_count": 38,
   "id": "452eecfb",
   "metadata": {},
   "outputs": [
    {
     "data": {
      "text/plain": [
       "array([[[0.21878098, 0.21920687, 0.21842422, 0.21844138, 0.21863185],\n",
       "        [0.21898465, 0.2194725 , 0.21862063, 0.21833119, 0.21849462],\n",
       "        [0.21823178, 0.21872522, 0.21765871, 0.2175341 , 0.21771649],\n",
       "        [0.21755491, 0.2181296 , 0.21705285, 0.21705696, 0.2170434 ],\n",
       "        [0.21721645, 0.2179157 , 0.21692161, 0.21700011, 0.21680117],\n",
       "        [0.21714944, 0.2179484 , 0.21698788, 0.21707955, 0.21686736],\n",
       "        [0.21755959, 0.21839972, 0.2173691 , 0.21740176, 0.21735126],\n",
       "        [0.21741013, 0.218241  , 0.21708019, 0.21699263, 0.21718082]],\n",
       "\n",
       "       [[0.23560962, 0.23602419, 0.23523213, 0.2352304 , 0.23544696],\n",
       "        [0.23547992, 0.23596233, 0.23505308, 0.2347669 , 0.23502593],\n",
       "        [0.2348463 , 0.23530713, 0.23425156, 0.23409571, 0.23429906],\n",
       "        [0.23415025, 0.23467189, 0.23363902, 0.2336205 , 0.23358783],\n",
       "        [0.23383829, 0.23447442, 0.23353659, 0.23360074, 0.23337966],\n",
       "        [0.23375575, 0.234494  , 0.23360945, 0.23368417, 0.23345773],\n",
       "        [0.23402645, 0.23481338, 0.23389116, 0.23389767, 0.23384377],\n",
       "        [0.23379627, 0.2345737 , 0.23354477, 0.23341528, 0.23363401]],\n",
       "\n",
       "       [[0.51212656, 0.5124202 , 0.5120499 , 0.5121159 , 0.51158524],\n",
       "        [0.51299137, 0.5131569 , 0.5126958 , 0.5128592 , 0.5129639 ],\n",
       "        [0.513213  , 0.51336527, 0.5134355 , 0.513527  , 0.5133382 ],\n",
       "        [0.5132707 , 0.5132695 , 0.513446  , 0.5134143 , 0.513368  ],\n",
       "        [0.5131094 , 0.5130434 , 0.5130566 , 0.5129984 , 0.51301837],\n",
       "        [0.5134992 , 0.5134576 , 0.51334095, 0.5132687 , 0.5132531 ],\n",
       "        [0.5132328 , 0.51327056, 0.513185  , 0.513062  , 0.51306665],\n",
       "        [0.5134569 , 0.51361966, 0.5137391 , 0.51351386, 0.51358944]],\n",
       "\n",
       "       [[0.5151299 , 0.51542157, 0.5150578 , 0.51512575, 0.51459193],\n",
       "        [0.5160076 , 0.5161653 , 0.5157182 , 0.5158866 , 0.51597714],\n",
       "        [0.51621073, 0.5163581 , 0.5164367 , 0.5165345 , 0.51633954],\n",
       "        [0.51627624, 0.51627076, 0.51645404, 0.51642585, 0.5163803 ],\n",
       "        [0.51612014, 0.5160487 , 0.5160659 , 0.5160109 , 0.51603335],\n",
       "        [0.516508  , 0.51646   , 0.5163434 , 0.51627535, 0.516261  ],\n",
       "        [0.5162485 , 0.5162797 , 0.5161915 , 0.51607394, 0.51607704],\n",
       "        [0.51648265, 0.5166407 , 0.51675713, 0.5165391 , 0.51660895]],\n",
       "\n",
       "       [[0.8715606 , 0.8714712 , 0.8713472 , 0.8713365 , 0.87164664],\n",
       "        [0.8731947 , 0.87309986, 0.87337184, 0.87327534, 0.87338626],\n",
       "        [0.87263364, 0.87247753, 0.8723011 , 0.8723075 , 0.8725461 ],\n",
       "        [0.8722496 , 0.8723154 , 0.8721483 , 0.87198114, 0.87244916],\n",
       "        [0.87154037, 0.8717596 , 0.8717425 , 0.8714126 , 0.8719084 ],\n",
       "        [0.87131083, 0.87149316, 0.871534  , 0.87117684, 0.87153125],\n",
       "        [0.87193626, 0.8719926 , 0.8720757 , 0.87178946, 0.8720044 ],\n",
       "        [0.87210083, 0.8720237 , 0.8722341 , 0.8720788 , 0.8723017 ]],\n",
       "\n",
       "       [[0.9554304 , 0.9556037 , 0.9552424 , 0.9555556 , 0.9548844 ],\n",
       "        [0.9557362 , 0.95589846, 0.95553875, 0.9558506 , 0.95592225],\n",
       "        [0.9552416 , 0.9548384 , 0.9544958 , 0.95499974, 0.95507336],\n",
       "        [0.95532423, 0.95500565, 0.9547211 , 0.9552375 , 0.9551867 ],\n",
       "        [0.95483696, 0.9547043 , 0.95470166, 0.95493954, 0.95492005],\n",
       "        [0.9541778 , 0.954035  , 0.9542856 , 0.954233  , 0.95427966],\n",
       "        [0.95469826, 0.9543715 , 0.954849  , 0.9546353 , 0.95474124],\n",
       "        [0.95500326, 0.9543647 , 0.95512354, 0.9549153 , 0.9551494 ]],\n",
       "\n",
       "       [[0.99534315, 0.9957795 , 0.9952898 , 0.99576735, 0.99432003],\n",
       "        [0.9921535 , 0.9924507 , 0.99151087, 0.9921694 , 0.99201727],\n",
       "        [0.99265516, 0.99197763, 0.9914552 , 0.99232024, 0.9922013 ],\n",
       "        [0.99288183, 0.99218345, 0.99176013, 0.9927729 , 0.99230504],\n",
       "        [0.99318826, 0.99265075, 0.9925227 , 0.99322826, 0.9927653 ],\n",
       "        [0.99253243, 0.99198055, 0.9921683 , 0.99248624, 0.9921689 ],\n",
       "        [0.9926626 , 0.99187607, 0.99237025, 0.9924079 , 0.9922769 ],\n",
       "        [0.99250704, 0.99130994, 0.9921768 , 0.9921215 , 0.99221647]],\n",
       "\n",
       "       [[0.97078395, 0.97104686, 0.97063446, 0.97101575, 0.9700663 ],\n",
       "        [0.9700189 , 0.9702315 , 0.9696715 , 0.97010785, 0.9701115 ],\n",
       "        [0.96980083, 0.96930575, 0.96890426, 0.9695408 , 0.9695488 ],\n",
       "        [0.9699668 , 0.9695169 , 0.969188  , 0.96988505, 0.9696865 ],\n",
       "        [0.96973205, 0.96946174, 0.96942556, 0.9698305 , 0.9696547 ],\n",
       "        [0.9690485 , 0.9687683 , 0.9690136 , 0.96908665, 0.9690112 ],\n",
       "        [0.9694305 , 0.968949  , 0.96945405, 0.9693185 , 0.9693513 ],\n",
       "        [0.9696009 , 0.9687707 , 0.9695922 , 0.9694255 , 0.96962273]],\n",
       "\n",
       "       [[0.1309742 , 0.13145518, 0.13079214, 0.13080356, 0.1306301 ],\n",
       "        [0.13298   , 0.13356604, 0.13282448, 0.13244414, 0.13228586],\n",
       "        [0.131896  , 0.13265519, 0.13155474, 0.13143067, 0.13156842],\n",
       "        [0.13144451, 0.13239652, 0.13110125, 0.13093096, 0.13121822],\n",
       "        [0.1306638 , 0.13178425, 0.13049376, 0.13032997, 0.1304298 ],\n",
       "        [0.13076681, 0.1319165 , 0.13055697, 0.13046153, 0.13046522],\n",
       "        [0.13166587, 0.13279632, 0.1312458 , 0.13118774, 0.13123736],\n",
       "        [0.13208699, 0.13327172, 0.13157123, 0.13153368, 0.13153502]],\n",
       "\n",
       "       [[0.20956512, 0.20999742, 0.2092223 , 0.20924951, 0.20941824],\n",
       "        [0.20996681, 0.21045844, 0.20963746, 0.20934607, 0.20945749],\n",
       "        [0.20915483, 0.20966814, 0.20859848, 0.20848978, 0.20866108],\n",
       "        [0.208494  , 0.20909984, 0.20800085, 0.20801288, 0.20801464],\n",
       "        [0.20813483, 0.2088706 , 0.20784631, 0.20792681, 0.20774539],\n",
       "        [0.2080785 , 0.20891169, 0.20790924, 0.20800486, 0.20780465],\n",
       "        [0.20856467, 0.20943424, 0.20834397, 0.20838684, 0.20834064],\n",
       "        [0.20846532, 0.20932671, 0.20809533, 0.20802827, 0.20819856]],\n",
       "\n",
       "       [[0.14938846, 0.14986098, 0.1491678 , 0.14921331, 0.14913215],\n",
       "        [0.15109672, 0.15164478, 0.15093595, 0.15059736, 0.15045363],\n",
       "        [0.15003659, 0.15072306, 0.14964181, 0.14956044, 0.14969277],\n",
       "        [0.14954038, 0.150395  , 0.14915457, 0.14908001, 0.14927854],\n",
       "        [0.14890216, 0.14991844, 0.14869511, 0.14863852, 0.14865908],\n",
       "        [0.14895141, 0.15002352, 0.14874667, 0.1487377 , 0.14868248],\n",
       "        [0.14982384, 0.15089074, 0.14943282, 0.14943558, 0.14945619],\n",
       "        [0.15011564, 0.15120941, 0.14958727, 0.149575  , 0.14961587]],\n",
       "\n",
       "       [[0.31678647, 0.31715763, 0.31639907, 0.31633925, 0.31645942],\n",
       "        [0.3158738 , 0.31633207, 0.31524605, 0.3150124 , 0.31561455],\n",
       "        [0.31590942, 0.31626484, 0.31540164, 0.31514195, 0.31539494],\n",
       "        [0.3153071 , 0.31562784, 0.31489912, 0.31473708, 0.31470692],\n",
       "        [0.31501108, 0.31539258, 0.31475788, 0.31467226, 0.3144815 ],\n",
       "        [0.314961  , 0.31543502, 0.31489536, 0.31480962, 0.31462315],\n",
       "        [0.31467882, 0.31522104, 0.31476822, 0.31459764, 0.3145857 ],\n",
       "        [0.3142926 , 0.3148445 , 0.31442922, 0.31409144, 0.3144027 ]],\n",
       "\n",
       "       [[0.5377167 , 0.53799254, 0.5376767 , 0.5377574 , 0.5372114 ],\n",
       "        [0.5386445 , 0.53874177, 0.538397  , 0.5385973 , 0.53858626],\n",
       "        [0.5387022 , 0.5388105 , 0.53894126, 0.5390817 , 0.53884715],\n",
       "        [0.53882366, 0.5387864 , 0.5390086 , 0.5390026 , 0.5389681 ],\n",
       "        [0.5387099 , 0.5386012 , 0.5386411 , 0.538607  , 0.53864884],\n",
       "        [0.5390676 , 0.53897303, 0.53885216, 0.5388153 , 0.53881097],\n",
       "        [0.5388529 , 0.53883654, 0.53872263, 0.5386471 , 0.53863907],\n",
       "        [0.53915614, 0.53928024, 0.5393671 , 0.53920364, 0.53923297]],\n",
       "\n",
       "       [[0.3048995 , 0.30527583, 0.30450475, 0.30444813, 0.30460152],\n",
       "        [0.30400485, 0.3044681 , 0.30339086, 0.30314362, 0.30371553],\n",
       "        [0.30394328, 0.30431014, 0.30340278, 0.30314848, 0.30340388],\n",
       "        [0.30331028, 0.30365577, 0.30287206, 0.30272704, 0.3026923 ],\n",
       "        [0.3030167 , 0.3034314 , 0.3027488 , 0.30268526, 0.30248055],\n",
       "        [0.30294862, 0.30345875, 0.30287182, 0.3028103 , 0.3026103 ],\n",
       "        [0.3027276 , 0.30330428, 0.30279127, 0.3026455 , 0.30262393],\n",
       "        [0.30233967, 0.30292156, 0.30242434, 0.30211222, 0.30241695]],\n",
       "\n",
       "       [[0.1802626 , 0.18071556, 0.1799745 , 0.18002598, 0.18009266],\n",
       "        [0.18132567, 0.18183585, 0.18109763, 0.1807944 , 0.18075472],\n",
       "        [0.1803606 , 0.18094787, 0.1798751 , 0.17980242, 0.17994533],\n",
       "        [0.17977212, 0.18048812, 0.1793226 , 0.17932838, 0.17940485],\n",
       "        [0.17931126, 0.18017364, 0.17905413, 0.17910476, 0.17900464],\n",
       "        [0.17929788, 0.18024418, 0.17910776, 0.17918396, 0.17904131],\n",
       "        [0.18000805, 0.18097246, 0.17969543, 0.17974523, 0.179724  ],\n",
       "        [0.18008927, 0.18105501, 0.1796138 , 0.17959434, 0.17970346]],\n",
       "\n",
       "       [[0.81115395, 0.8110578 , 0.8110157 , 0.81092006, 0.81137514],\n",
       "        [0.81156874, 0.8113288 , 0.8116894 , 0.81157184, 0.81152344],\n",
       "        [0.8113096 , 0.8111624 , 0.8110415 , 0.8109557 , 0.81114256],\n",
       "        [0.810971  , 0.81103784, 0.81091917, 0.8105988 , 0.8111534 ],\n",
       "        [0.81077784, 0.8109364 , 0.81086147, 0.8104715 , 0.811015  ],\n",
       "        [0.8107414 , 0.8108384 , 0.8106935 , 0.81041306, 0.8107368 ],\n",
       "        [0.81083614, 0.8108425 , 0.8106419 , 0.8105053 , 0.81066525],\n",
       "        [0.81065315, 0.8106446 , 0.8105277 , 0.8105191 , 0.81065977]],\n",
       "\n",
       "       [[0.8897583 , 0.8896966 , 0.8895316 , 0.88957447, 0.8897526 ],\n",
       "        [0.891578  , 0.8915359 , 0.89173055, 0.89168173, 0.891821  ],\n",
       "        [0.89091396, 0.8907349 , 0.8905374 , 0.89061475, 0.89084363],\n",
       "        [0.89059097, 0.89061844, 0.890437  , 0.89037067, 0.8907676 ],\n",
       "        [0.88979197, 0.8899871 , 0.8899894 , 0.8897307 , 0.89016366],\n",
       "        [0.8894598 , 0.88962674, 0.88972974, 0.88938844, 0.8897207 ],\n",
       "        [0.8901691 , 0.89020056, 0.8903836 , 0.8900729 , 0.89029276],\n",
       "        [0.8904528 , 0.8903139 , 0.89065015, 0.890456  , 0.8906989 ]],\n",
       "\n",
       "       [[0.09034802, 0.09082983, 0.09021501, 0.08999874, 0.08970615],\n",
       "        [0.09262271, 0.09336796, 0.09233256, 0.09176569, 0.09178133],\n",
       "        [0.09152602, 0.09250161, 0.09127475, 0.09090173, 0.09107305],\n",
       "        [0.09104086, 0.09226824, 0.09079549, 0.09026055, 0.0907328 ],\n",
       "        [0.08987731, 0.09127109, 0.08980148, 0.08929008, 0.08952053],\n",
       "        [0.0902126 , 0.09153728, 0.0899964 , 0.08962069, 0.08973835],\n",
       "        [0.09082954, 0.09211813, 0.09043297, 0.09013832, 0.09024529],\n",
       "        [0.09156139, 0.09302002, 0.09125562, 0.09105043, 0.09099245]],\n",
       "\n",
       "       [[0.82322   , 0.82311714, 0.8230648 , 0.8229753 , 0.8234335 ],\n",
       "        [0.82389045, 0.8236743 , 0.82403374, 0.8239063 , 0.82389355],\n",
       "        [0.8235932 , 0.82344913, 0.8233167 , 0.82323337, 0.8234396 ],\n",
       "        [0.82321817, 0.8232964 , 0.823166  , 0.8228563 , 0.8234103 ],\n",
       "        [0.82291484, 0.823098  , 0.8230313 , 0.8226354 , 0.8231859 ],\n",
       "        [0.8228621 , 0.8229875 , 0.8228742 , 0.82256746, 0.8229059 ],\n",
       "        [0.82307506, 0.8231019 , 0.8229481 , 0.82277846, 0.8229513 ],\n",
       "        [0.8229366 , 0.82292545, 0.82285905, 0.8228228 , 0.8229809 ]],\n",
       "\n",
       "       [[0.15709473, 0.15756285, 0.15685703, 0.15690884, 0.15686682],\n",
       "        [0.15865505, 0.15919116, 0.15848325, 0.15815687, 0.15803126],\n",
       "        [0.15761197, 0.15827125, 0.15719408, 0.15712121, 0.15725392],\n",
       "        [0.1570932 , 0.15791065, 0.15669033, 0.1566445 , 0.15680884],\n",
       "        [0.15650657, 0.15748218, 0.15628552, 0.15626395, 0.15625201],\n",
       "        [0.15653783, 0.15757793, 0.15633596, 0.15635517, 0.15627621],\n",
       "        [0.15738085, 0.15842181, 0.15700656, 0.15702716, 0.15703619],\n",
       "        [0.15761912, 0.15867859, 0.15709648, 0.15708758, 0.15714553]]],\n",
       "      dtype=float32)"
      ]
     },
     "execution_count": 38,
     "metadata": {},
     "output_type": "execute_result"
    }
   ],
   "source": [
    "#we can reshape the 3d array to 2d array \n",
    "#pre = pre.reshape(pre.shape[0],pre.shape[2])\n",
    "pre[:20]"
   ]
  },
  {
   "cell_type": "code",
   "execution_count": 39,
   "id": "0011fd95",
   "metadata": {},
   "outputs": [
    {
     "data": {
      "text/plain": [
       "array([[0.21601208],\n",
       "       [0.2326284 ],\n",
       "       [0.51359517],\n",
       "       [0.51661631],\n",
       "       [0.87160121],\n",
       "       [0.95468278],\n",
       "       [0.9939577 ],\n",
       "       [0.96978852],\n",
       "       [0.12990937],\n",
       "       [0.20694864],\n",
       "       [0.14803625],\n",
       "       [0.3141994 ],\n",
       "       [0.53927492],\n",
       "       [0.3021148 ],\n",
       "       [0.17824773],\n",
       "       [0.81117825],\n",
       "       [0.8897281 ],\n",
       "       [0.08912387],\n",
       "       [0.82326284],\n",
       "       [0.15558912],\n",
       "       [0.52114804],\n",
       "       [0.91389728],\n",
       "       [0.25528701],\n",
       "       [0.43353474],\n",
       "       [0.20392749],\n",
       "       [0.90785498],\n",
       "       [0.89577039],\n",
       "       [0.40785498],\n",
       "       [0.77794562],\n",
       "       [0.081571  ],\n",
       "       [0.75377644],\n",
       "       [0.72809668],\n",
       "       [0.79758308],\n",
       "       [0.91087613],\n",
       "       [0.5060423 ],\n",
       "       [0.53776435],\n",
       "       [0.48187311],\n",
       "       [0.88066465],\n",
       "       [0.03172205],\n",
       "       [0.92145015],\n",
       "       [0.80966767],\n",
       "       [0.3776435 ],\n",
       "       [0.09969789],\n",
       "       [0.55891239],\n",
       "       [0.69033233],\n",
       "       [0.63293051],\n",
       "       [0.47432024],\n",
       "       [0.88217523],\n",
       "       [0.39879154],\n",
       "       [0.17069486],\n",
       "       [0.64501511],\n",
       "       [0.31873112],\n",
       "       [0.29154079],\n",
       "       [0.72960725],\n",
       "       [0.35951662],\n",
       "       [0.54380665],\n",
       "       [0.70392749],\n",
       "       [0.81268882],\n",
       "       [0.94561934],\n",
       "       [0.8081571 ],\n",
       "       [0.06344411],\n",
       "       [0.21903323],\n",
       "       [0.87009063],\n",
       "       [0.20241692],\n",
       "       [0.37462236],\n",
       "       [0.86858006],\n",
       "       [0.2673716 ],\n",
       "       [0.22356495],\n",
       "       [0.35196375],\n",
       "       [0.25226586],\n",
       "       [0.55438066],\n",
       "       [0.918429  ],\n",
       "       [0.46374622],\n",
       "       [0.94864048],\n",
       "       [0.44712991],\n",
       "       [0.41540785],\n",
       "       [0.91238671],\n",
       "       [0.43655589],\n",
       "       [0.96676737],\n",
       "       [0.78096677],\n",
       "       [0.51208459],\n",
       "       [0.74471299],\n",
       "       [0.39577039],\n",
       "       [0.05287009],\n",
       "       [0.8141994 ],\n",
       "       [0.4244713 ],\n",
       "       [0.52870091],\n",
       "       [0.91540785],\n",
       "       [0.18429003],\n",
       "       [0.12084592],\n",
       "       [0.56042296],\n",
       "       [0.71601208],\n",
       "       [0.55740181],\n",
       "       [0.46676737],\n",
       "       [0.39425982],\n",
       "       [0.54833837],\n",
       "       [0.10120846],\n",
       "       [0.38670695],\n",
       "       [0.56344411],\n",
       "       [0.49244713],\n",
       "       [0.66012085],\n",
       "       [0.5       ],\n",
       "       [0.37160121],\n",
       "       [0.79154079],\n",
       "       [0.98187311],\n",
       "       [0.36858006],\n",
       "       [0.86102719],\n",
       "       [0.22054381],\n",
       "       [0.71299094],\n",
       "       [0.48338369],\n",
       "       [0.59818731],\n",
       "       [0.6163142 ],\n",
       "       [0.09667674],\n",
       "       [0.55135952],\n",
       "       [0.99244713],\n",
       "       [0.90483384],\n",
       "       [0.7326284 ],\n",
       "       [0.76132931],\n",
       "       [0.8021148 ],\n",
       "       [0.08459215],\n",
       "       [0.94108761],\n",
       "       [0.34138973],\n",
       "       [0.99848943],\n",
       "       [0.53172205],\n",
       "       [0.32175227],\n",
       "       [0.23716012],\n",
       "       [0.31722054],\n",
       "       [0.22960725],\n",
       "       [0.45317221],\n",
       "       [0.24924471]])"
      ]
     },
     "execution_count": 39,
     "metadata": {},
     "output_type": "execute_result"
    }
   ],
   "source": [
    "y_test"
   ]
  },
  {
   "cell_type": "code",
   "execution_count": null,
   "id": "8e277b18",
   "metadata": {},
   "outputs": [],
   "source": []
  }
 ],
 "metadata": {
  "kernelspec": {
   "display_name": "Python 3 (ipykernel)",
   "language": "python",
   "name": "python3"
  },
  "language_info": {
   "codemirror_mode": {
    "name": "ipython",
    "version": 3
   },
   "file_extension": ".py",
   "mimetype": "text/x-python",
   "name": "python",
   "nbconvert_exporter": "python",
   "pygments_lexer": "ipython3",
   "version": "3.11.2"
  }
 },
 "nbformat": 4,
 "nbformat_minor": 5
}
